{
 "cells": [
  {
   "cell_type": "code",
   "execution_count": 1,
   "metadata": {},
   "outputs": [
    {
     "name": "stderr",
     "output_type": "stream",
     "text": [
      "C:\\Users\\theal\\AppData\\Local\\Temp\\ipykernel_117140\\4080736814.py:1: DeprecationWarning: \n",
      "Pyarrow will become a required dependency of pandas in the next major release of pandas (pandas 3.0),\n",
      "(to allow more performant data types, such as the Arrow string type, and better interoperability with other libraries)\n",
      "but was not found to be installed on your system.\n",
      "If this would cause problems for you,\n",
      "please provide us feedback at https://github.com/pandas-dev/pandas/issues/54466\n",
      "        \n",
      "  import pandas as pd\n"
     ]
    }
   ],
   "source": [
    "import pandas as pd"
   ]
  },
  {
   "cell_type": "code",
   "execution_count": 21,
   "metadata": {},
   "outputs": [],
   "source": [
    "df = pd.read_csv('documents_data.csv')"
   ]
  },
  {
   "cell_type": "code",
   "execution_count": 22,
   "metadata": {},
   "outputs": [
    {
     "data": {
      "text/plain": [
       "(10036, 4)"
      ]
     },
     "execution_count": 22,
     "metadata": {},
     "output_type": "execute_result"
    }
   ],
   "source": [
    "df.shape"
   ]
  },
  {
   "cell_type": "code",
   "execution_count": 29,
   "metadata": {},
   "outputs": [
    {
     "data": {
      "text/html": [
       "<div>\n",
       "<style scoped>\n",
       "    .dataframe tbody tr th:only-of-type {\n",
       "        vertical-align: middle;\n",
       "    }\n",
       "\n",
       "    .dataframe tbody tr th {\n",
       "        vertical-align: top;\n",
       "    }\n",
       "\n",
       "    .dataframe thead th {\n",
       "        text-align: right;\n",
       "    }\n",
       "</style>\n",
       "<table border=\"1\" class=\"dataframe\">\n",
       "  <thead>\n",
       "    <tr style=\"text-align: right;\">\n",
       "      <th></th>\n",
       "      <th>Title</th>\n",
       "      <th>Date</th>\n",
       "      <th>Content</th>\n",
       "      <th>Citation</th>\n",
       "    </tr>\n",
       "  </thead>\n",
       "  <tbody>\n",
       "    <tr>\n",
       "      <th>0</th>\n",
       "      <td>Trump Campaign Press Release - Donald Trump: O...</td>\n",
       "      <td>2015-06-16</td>\n",
       "      <td>The Gateway Pundit\\n\\nDonald Trump says it's t...</td>\n",
       "      <td>Donald J. Trump, Trump Campaign Press Release ...</td>\n",
       "    </tr>\n",
       "    <tr>\n",
       "      <th>1</th>\n",
       "      <td>Trump Campaign Press Release - Trump on Hillar...</td>\n",
       "      <td>2015-06-16</td>\n",
       "      <td>The Gateway Pundit\\n\\nThis is why we love the ...</td>\n",
       "      <td>Donald J. Trump, Trump Campaign Press Release ...</td>\n",
       "    </tr>\n",
       "    <tr>\n",
       "      <th>2</th>\n",
       "      <td>Trump Campaign Press Release - Donald J. Trump...</td>\n",
       "      <td>2015-06-16</td>\n",
       "      <td>(New York, NY) June 16, 2015—Today, Donald J. ...</td>\n",
       "      <td>Donald J. Trump, Trump Campaign Press Release ...</td>\n",
       "    </tr>\n",
       "    <tr>\n",
       "      <th>3</th>\n",
       "      <td>Trump Campaign Press Release - Donald Trump: I...</td>\n",
       "      <td>2015-06-16</td>\n",
       "      <td>The Gateway Pundit [See APP Note]\\n\\n\\n\\n\\nWha...</td>\n",
       "      <td>Donald J. Trump, Trump Campaign Press Release ...</td>\n",
       "    </tr>\n",
       "    <tr>\n",
       "      <th>4</th>\n",
       "      <td>Trump Campaign Press Release - Donald Trump Pr...</td>\n",
       "      <td>2015-06-16</td>\n",
       "      <td>Donald Trump\\n\\nWatch Donald Trump declare his...</td>\n",
       "      <td>Donald J. Trump, Trump Campaign Press Release ...</td>\n",
       "    </tr>\n",
       "  </tbody>\n",
       "</table>\n",
       "</div>"
      ],
      "text/plain": [
       "                                               Title        Date  \\\n",
       "0  Trump Campaign Press Release - Donald Trump: O...  2015-06-16   \n",
       "1  Trump Campaign Press Release - Trump on Hillar...  2015-06-16   \n",
       "2  Trump Campaign Press Release - Donald J. Trump...  2015-06-16   \n",
       "3  Trump Campaign Press Release - Donald Trump: I...  2015-06-16   \n",
       "4  Trump Campaign Press Release - Donald Trump Pr...  2015-06-16   \n",
       "\n",
       "                                             Content  \\\n",
       "0  The Gateway Pundit\\n\\nDonald Trump says it's t...   \n",
       "1  The Gateway Pundit\\n\\nThis is why we love the ...   \n",
       "2  (New York, NY) June 16, 2015—Today, Donald J. ...   \n",
       "3  The Gateway Pundit [See APP Note]\\n\\n\\n\\n\\nWha...   \n",
       "4  Donald Trump\\n\\nWatch Donald Trump declare his...   \n",
       "\n",
       "                                            Citation  \n",
       "0  Donald J. Trump, Trump Campaign Press Release ...  \n",
       "1  Donald J. Trump, Trump Campaign Press Release ...  \n",
       "2  Donald J. Trump, Trump Campaign Press Release ...  \n",
       "3  Donald J. Trump, Trump Campaign Press Release ...  \n",
       "4  Donald J. Trump, Trump Campaign Press Release ...  "
      ]
     },
     "execution_count": 29,
     "metadata": {},
     "output_type": "execute_result"
    }
   ],
   "source": [
    "df.head()"
   ]
  },
  {
   "cell_type": "code",
   "execution_count": 31,
   "metadata": {},
   "outputs": [
    {
     "data": {
      "text/plain": [
       "'The Gateway Pundit\\n\\nDonald Trump says it\\'s time to \"Make America Great Again\"\\nHis big presidential announcement was today at 11 AM ET.\\nTrump BASHED Obama – a horrible negotiator.\\n\"Our president doesn\\'t have a clue. He\\'s a bad negotiator. He\\'s the one that did Bergdahl. We get Bergdahl. They get five killer terrorists that everybody wanted over there.\"'"
      ]
     },
     "execution_count": 31,
     "metadata": {},
     "output_type": "execute_result"
    }
   ],
   "source": [
    "df.iloc[0]['Content']"
   ]
  },
  {
   "cell_type": "code",
   "execution_count": null,
   "metadata": {},
   "outputs": [],
   "source": []
  }
 ],
 "metadata": {
  "kernelspec": {
   "display_name": "journal",
   "language": "python",
   "name": "python3"
  },
  "language_info": {
   "codemirror_mode": {
    "name": "ipython",
    "version": 3
   },
   "file_extension": ".py",
   "mimetype": "text/x-python",
   "name": "python",
   "nbconvert_exporter": "python",
   "pygments_lexer": "ipython3",
   "version": "3.12.0"
  }
 },
 "nbformat": 4,
 "nbformat_minor": 2
}
